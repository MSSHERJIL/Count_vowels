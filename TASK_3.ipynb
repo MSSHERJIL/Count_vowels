{
  "nbformat": 4,
  "nbformat_minor": 0,
  "metadata": {
    "colab": {
      "provenance": []
    },
    "kernelspec": {
      "name": "python3",
      "display_name": "Python 3"
    },
    "language_info": {
      "name": "python"
    }
  },
  "cells": [
    {
      "cell_type": "code",
      "source": [
        "def count_vowels(text):\n",
        " count=0\n",
        " for character in text:\n",
        "  if (character in \"aAeEiIoOuU\"):\n",
        "    count+=1\n",
        " return count\n",
        "text=input('enter your string:')\n",
        "count=count_vowels(text)\n",
        "print('count', count)"
      ],
      "metadata": {
        "colab": {
          "base_uri": "https://localhost:8080/"
        },
        "id": "t2KhSwLUruEp",
        "outputId": "e7442952-1544-4718-b1b9-f7b49db4ccac"
      },
      "execution_count": 4,
      "outputs": [
        {
          "output_type": "stream",
          "name": "stdout",
          "text": [
            "enter your string:MY name is ali\n",
            "count 5\n"
          ]
        }
      ]
    }
  ]
}